{
  "nbformat": 4,
  "nbformat_minor": 0,
  "metadata": {
    "colab": {
      "provenance": []
    },
    "kernelspec": {
      "name": "python3",
      "display_name": "Python 3"
    },
    "language_info": {
      "name": "python"
    }
  },
  "cells": [
    {
      "cell_type": "markdown",
      "source": [
        "##Q1:- Generate a list of 100 integers containing values between 90 to 130 and store it in the variable `int_list`.  After generating the list, find the following:"
      ],
      "metadata": {
        "id": "mpjObK6jXWXd"
      }
    },
    {
      "cell_type": "code",
      "source": [
        "import numpy as np\n",
        "import pandas as pd\n",
        "import math\n",
        "import matplotlib.pyplot as plt\n",
        "import seaborn as sns\n",
        "\n",
        "import warnings\n",
        "warnings.filterwarnings('ignore')"
      ],
      "metadata": {
        "id": "lAY1Y960YsSm"
      },
      "execution_count": null,
      "outputs": []
    },
    {
      "cell_type": "code",
      "source": [
        "#A. Write a Python function to calculate the mean of a given list of numbers.\n",
        "#  Create a function to find the median of a list of numbers.\n",
        "\n",
        "def mean1(number):      #function for mean\n",
        "  return sum(number)/len(number)\n",
        "\n",
        "def median1(number):   #Function for median\n",
        "  number = np.sort(number)\n",
        "\n",
        "  if len(number)%2 == 0:\n",
        "    return (number[len(number)//2]+number[len(number)//2-1])/2\n",
        "  else:\n",
        "    return number[len(number)//2]\n",
        "\n",
        "\n",
        "int_list = np.random.randint(90,130,100)\n",
        "print(int_list)"
      ],
      "metadata": {
        "colab": {
          "base_uri": "https://localhost:8080/"
        },
        "id": "av4mLHL7Xh9H",
        "outputId": "d452801d-2aca-4c18-bcc9-2f75acea8535"
      },
      "execution_count": null,
      "outputs": [
        {
          "output_type": "stream",
          "name": "stdout",
          "text": [
            "[119 108  96  91 117 102  98  94 109 125 100 119 100 118 113  98 127 109\n",
            " 113 120  93 123  97  92 103  90 115 128 109 126 102 100 117 103 120 119\n",
            " 110  95 100 120  93 101 100  91 101 127  96 117  95 107 110  91  98 125\n",
            "  94 124  94 104 105 101  93 107 124 123 107 106 114  99 107 113  97 117\n",
            " 128  93 107 109  98 125 120 103 102 102 104  99 116 104 119  91  99  94\n",
            " 103 104 129 102 118 129 117 116  95 106]\n"
          ]
        }
      ]
    },
    {
      "cell_type": "code",
      "source": [
        "print(mean1(int_list))  #mean of the given number"
      ],
      "metadata": {
        "colab": {
          "base_uri": "https://localhost:8080/"
        },
        "id": "zXBV63MSZxBl",
        "outputId": "c1324bf7-6837-4e58-e149-d788af431bac"
      },
      "execution_count": null,
      "outputs": [
        {
          "output_type": "stream",
          "name": "stdout",
          "text": [
            "107.51\n"
          ]
        }
      ]
    },
    {
      "cell_type": "code",
      "source": [
        "print(median1(int_list))   #median of the given number"
      ],
      "metadata": {
        "colab": {
          "base_uri": "https://localhost:8080/"
        },
        "id": "hWW35VeEZ64o",
        "outputId": "38460fb1-72b8-47c7-e21d-795eec953c06"
      },
      "execution_count": null,
      "outputs": [
        {
          "output_type": "stream",
          "name": "stdout",
          "text": [
            "105.5\n"
          ]
        }
      ]
    },
    {
      "cell_type": "code",
      "source": [
        "#B:- Develop a program to compute the mode of a list of integers\n",
        "\n",
        "def mode(number1):\n",
        "    # Create a dictionary to store the frequency of each number\n",
        "    frequency = {}\n",
        "\n",
        "    # Count the frequency of each number using a for loop\n",
        "    for num in number1:\n",
        "        if num in frequency:\n",
        "            frequency[num] += 1\n",
        "        else:\n",
        "            frequency[num] = 1\n",
        "\n",
        "    # Find the highest frequency\n",
        "    max_count = max(frequency.values())\n",
        "\n",
        "    # Find the numbers that have the highest frequency (mode)\n",
        "    modes = []\n",
        "    for num, count in frequency.items():\n",
        "        if count == max_count:\n",
        "            modes.append(num)\n",
        "\n",
        "    return modes\n"
      ],
      "metadata": {
        "id": "QbBwvC6ubdLL"
      },
      "execution_count": null,
      "outputs": []
    },
    {
      "cell_type": "code",
      "source": [
        "mode(int_list)"
      ],
      "metadata": {
        "colab": {
          "base_uri": "https://localhost:8080/"
        },
        "id": "VVt9k1LSh93p",
        "outputId": "7b5a61e1-e667-4e29-ad12-65b61dc03796"
      },
      "execution_count": null,
      "outputs": [
        {
          "output_type": "execute_result",
          "data": {
            "text/plain": [
              "[117, 102, 100, 107]"
            ]
          },
          "metadata": {},
          "execution_count": 6
        }
      ]
    },
    {
      "cell_type": "code",
      "source": [
        "#C:- Implement a function to calculate the weighted mean of a list of values and their corrosponding weights.\n",
        "\n",
        "int_list = np.random.randint(90,130,100)\n",
        "weights = np.random.randint(1,10,100)\n",
        "\n",
        "def weighted_mean(values, weights):\n",
        "  if len(values) != len(weights):\n",
        "    return 'The length of values and weights must be same'\n",
        "\n",
        "  weighted_sum = sum(v * w for v, w in zip(values, weights))\n",
        "  sum_of_weights = sum(weights)\n",
        "\n",
        "  return weighted_sum/sum_of_weights\n",
        "\n",
        "print(weighted_mean(int_list, weights))"
      ],
      "metadata": {
        "colab": {
          "base_uri": "https://localhost:8080/"
        },
        "id": "qI2k79qMo47I",
        "outputId": "f1b29995-3324-4de0-c846-a7547b42179f"
      },
      "execution_count": null,
      "outputs": [
        {
          "output_type": "stream",
          "name": "stdout",
          "text": [
            "107.96\n"
          ]
        }
      ]
    },
    {
      "cell_type": "code",
      "source": [
        "print(int_list)"
      ],
      "metadata": {
        "colab": {
          "base_uri": "https://localhost:8080/"
        },
        "id": "-rc1I05wr1JV",
        "outputId": "61818843-6495-4be4-a67c-876bb5de07f7"
      },
      "execution_count": null,
      "outputs": [
        {
          "output_type": "stream",
          "name": "stdout",
          "text": [
            "[102 106 112  90 113 127  95 107 122 102 117  97 126 121 102 129 117  91\n",
            "  94  97  93  96 101 100 105 108 123 112 115 109  91  92 110 122  96 127\n",
            " 112  97  91 120  99 122  96 101  91 102 120  93 120 105 113 128 101  99\n",
            " 104  96 110 102 116 116  90  90 112 111 117 128 124  97 128 105 105  92\n",
            " 116 115 112 104 128 101 113 113 114  97 107 115 122 100  97 126 123 122\n",
            " 126 111  91 106  93 112  91  94 102  93]\n"
          ]
        }
      ]
    },
    {
      "cell_type": "code",
      "source": [
        "#D:- write a python function to find the geometric mean of a list of positive numbers.\n",
        "\n",
        "def geometric_mean(numbers):\n",
        "  multiply = 1\n",
        "  for i in numbers:\n",
        "    multiply *= i\n",
        "  return multiply ** (1/ len(numbers))\n",
        "print(geometric_mean(weights))\n"
      ],
      "metadata": {
        "colab": {
          "base_uri": "https://localhost:8080/"
        },
        "id": "AcdoocAsqTKq",
        "outputId": "ddbe1059-9855-40ce-8a51-a9472e04f042"
      },
      "execution_count": null,
      "outputs": [
        {
          "output_type": "stream",
          "name": "stdout",
          "text": [
            "0.0\n"
          ]
        }
      ]
    },
    {
      "cell_type": "code",
      "source": [
        "#E:- Create a program to calculate the harmonic mean of a list of values.\n",
        "\n",
        "def harmonic_mean(numbers):\n",
        "  sum_of_reciprocal = sum(1/ num for num in numbers)\n",
        "  return len(numbers)/sum_of_reciprocal\n",
        "\n",
        "print(harmonic_mean(weights))"
      ],
      "metadata": {
        "colab": {
          "base_uri": "https://localhost:8080/"
        },
        "id": "aPpKvZt0uPWX",
        "outputId": "991449a6-bdfb-4556-8551-f564b8431bd3"
      },
      "execution_count": null,
      "outputs": [
        {
          "output_type": "stream",
          "name": "stdout",
          "text": [
            "3.3967757588828396\n"
          ]
        }
      ]
    },
    {
      "cell_type": "code",
      "source": [
        "#F:- Build a function to determine the midrange of a list of numbers (average of the minimum and maximum)\n",
        "\n",
        "def midrange(numbers):\n",
        "  return (min(numbers)+max(numbers))/2\n",
        "\n",
        "print(midrange(int_list))"
      ],
      "metadata": {
        "colab": {
          "base_uri": "https://localhost:8080/"
        },
        "id": "TgUBKnORvWTg",
        "outputId": "cf5c6604-d289-4eaf-8195-4ec263a54163"
      },
      "execution_count": null,
      "outputs": [
        {
          "output_type": "stream",
          "name": "stdout",
          "text": [
            "109.5\n"
          ]
        }
      ]
    },
    {
      "cell_type": "code",
      "source": [
        "#G:- Implement a Python program to find the trimmed mean of a list, excluding a certain percentage of outliers.\n",
        "\n",
        "def trimmed_mean(values, trim_percentage):\n",
        "    # Step 1: Sort the values\n",
        "    values_sorted = sorted(values)\n",
        "\n",
        "    # Step 2: Calculate the number of elements to trim from each end\n",
        "    trim_count = int(len(values) * trim_percentage / 100)\n",
        "\n",
        "    # Step 3: Trim the elements from both ends\n",
        "    trimmed_values = values_sorted[trim_count: -trim_count] if trim_count > 0 else values_sorted\n",
        "\n",
        "    # Step 4: Calculate the mean of the remaining values\n",
        "    mean = sum(trimmed_values) / len(trimmed_values) if len(trimmed_values) > 0 else 0\n",
        "    return mean\n",
        "\n",
        "trim_percentage = 20  # Trim 20% of values from both ends\n",
        "result = trimmed_mean(int_list, trim_percentage)\n",
        "print(\"Trimmed Mean:\", result)\n",
        "\n",
        "\n"
      ],
      "metadata": {
        "colab": {
          "base_uri": "https://localhost:8080/"
        },
        "id": "3ngFITfXwOJc",
        "outputId": "76790f4d-a21c-4209-d2e4-6b79efd45f2d"
      },
      "execution_count": null,
      "outputs": [
        {
          "output_type": "stream",
          "name": "stdout",
          "text": [
            "Trimmed Mean: 107.05\n"
          ]
        }
      ]
    },
    {
      "cell_type": "markdown",
      "source": [
        "##2:- Generate a list of 500 integers containig values b/w 200 an 300 and store it in the variable `int_list2`. After generating the list, find the following::--"
      ],
      "metadata": {
        "id": "nVTxHGbey8sJ"
      }
    },
    {
      "cell_type": "code",
      "source": [
        "#A:- Compare the given list of visualization for the given data:\n",
        "#(1):- Frequncy & gaussian distribution\n",
        "from scipy.stats import norm\n",
        "\n",
        "int_list2 = np.random.randint(200,300,500)\n",
        "\n",
        "# 1. Plotting the histogram (Frequency distribution)\n",
        "plt.figure(figsize=(10, 6))\n",
        "sns.histplot(int_list2, bins=30, kde=False, color='blue', stat='density', label='Data Histogram')\n",
        "\n",
        "mu, std = norm.fit(int_list2)  # Fit a normal distribution to the data\n",
        "xmin, xmax = plt.xlim()  # Get the limits of the x-axis\n",
        "x = np.linspace(xmin, xmax, 100)  # Create 100 points on the x-axis\n",
        "p = norm.pdf(x, mu, std)  # Compute the PDF for the normal distribution\n",
        "\n",
        "plt.plot(x, p, 'k', linewidth=2, label='Gaussian Distribution (Fit)')\n",
        "\n",
        "plt.title('Comparison: Frequency Distribution & Gaussian Distribution')\n",
        "plt.xlabel('Data Value')\n",
        "plt.ylabel('Density')\n",
        "plt.legend()\n",
        "\n",
        "# Show the plot\n",
        "plt.show()\n"
      ],
      "metadata": {
        "colab": {
          "base_uri": "https://localhost:8080/",
          "height": 426
        },
        "id": "NRIRMOmMzXDc",
        "outputId": "3cd52980-ec5d-41f1-8962-e6ec73625e4e"
      },
      "execution_count": null,
      "outputs": [
        {
          "output_type": "display_data",
          "data": {
            "text/plain": [
              "<Figure size 1000x600 with 1 Axes>"
            ],
            "image/png": "[encoded data removed]"
          },
          "metadata": {}
        }
      ]
    },
    {
      "cell_type": "code",
      "source": [
        "#A(2): Frequency smoothened KDE plot\n",
        "plt.figure(figsize=(10, 6))\n",
        "sns.kdeplot(int_list2, shade=True, color='r')  # 'bw_adjust' controls the smoothing\n",
        "\n",
        "plt.title('Smoothed KDE Plot')\n",
        "plt.xlabel('Data Value')\n",
        "plt.ylabel('Density')\n",
        "\n",
        "plt.show()"
      ],
      "metadata": {
        "colab": {
          "base_uri": "https://localhost:8080/",
          "height": 426
        },
        "id": "CJYq6r_l3VyD",
        "outputId": "3de51108-8381-4c82-a181-d2b0de2903d5"
      },
      "execution_count": null,
      "outputs": [
        {
          "output_type": "display_data",
          "data": {
            "text/plain": [
              "<Figure size 1000x600 with 1 Axes>"
            ],
            "image/png": "[encoded data removed]"
          },
          "metadata": {}
        }
      ]
    },
    {
      "cell_type": "code",
      "source": [
        "# Gaussian distribution & smoothened KDE plot\n",
        "sns.kdeplot(int_list2, shade=True, color='blue', bw_adjust=0.5, label='Smoothed KDE')\n",
        "\n",
        "plt.plot(x, p, 'k', linewidth=2, label='Fitted Gaussian Distribution')\n",
        "\n",
        "plt.title('Gaussian Distribution & Smoothed KDE Plot')\n",
        "plt.xlabel('Data Value')\n",
        "plt.ylabel('Density')\n",
        "plt.legend()"
      ],
      "metadata": {
        "colab": {
          "base_uri": "https://localhost:8080/",
          "height": 489
        },
        "id": "WXxPWM6E4z-8",
        "outputId": "3c9b18aa-dabd-426d-e02a-e1fcd2fb93ca"
      },
      "execution_count": null,
      "outputs": [
        {
          "output_type": "execute_result",
          "data": {
            "text/plain": [
              "<matplotlib.legend.Legend at 0x7c9c2c287190>"
            ]
          },
          "metadata": {},
          "execution_count": 15
        },
        {
          "output_type": "display_data",
          "data": {
            "text/plain": [
              "<Figure size 640x480 with 1 Axes>"
            ],
            "image/png": "[encoded data removed]"
          },
          "metadata": {}
        }
      ]
    },
    {
      "cell_type": "code",
      "source": [
        "#B:- Write a Python function to calculate the range of a given list of numbers.\n",
        "\n",
        "def range1(numbers):\n",
        "  return max(numbers) - min(numbers)\n",
        "\n",
        "print(range1(int_list2))"
      ],
      "metadata": {
        "colab": {
          "base_uri": "https://localhost:8080/"
        },
        "id": "kvsWVcuM55fl",
        "outputId": "66a8e516-2715-4f55-d485-51bd83d4d51e"
      },
      "execution_count": null,
      "outputs": [
        {
          "output_type": "stream",
          "name": "stdout",
          "text": [
            "99\n"
          ]
        }
      ]
    },
    {
      "cell_type": "code",
      "source": [
        "#C:- Create a program to find the variance and standerd deviation of a list of numbers.\n",
        "def Variance(numbers):\n",
        "    mean = sum(numbers) / len(numbers)\n",
        "    variance = sum((x - mean) ** 2 for x in numbers)/len(numbers)\n",
        "    return variance\n",
        "\n",
        "\n",
        "def Standerd_deviation(numbers):\n",
        "  return math.sqrt(Variance(numbers))\n",
        "\n",
        "print(Variance(int_list2))\n",
        "print(Standerd_deviation(int_list2))"
      ],
      "metadata": {
        "colab": {
          "base_uri": "https://localhost:8080/"
        },
        "id": "mv9eLtPY6Hno",
        "outputId": "eb0e6376-12a9-4336-b7fe-9f75efe072ea"
      },
      "execution_count": null,
      "outputs": [
        {
          "output_type": "stream",
          "name": "stdout",
          "text": [
            "883.146144\n",
            "29.7177748830561\n"
          ]
        }
      ]
    },
    {
      "cell_type": "code",
      "source": [
        "#D:- Implement a function to compute the interquartile range(IQR) of a list of values.\n",
        "def IQR(numbers):\n",
        "  sorted_numbers = np.sort(numbers)\n",
        "  q1 = np.percentile(sorted_numbers, 25)\n",
        "  q3 = np.percentile(sorted_numbers, 75)\n",
        "  return q3-q1\n",
        "\n",
        "print(IQR(int_list2))"
      ],
      "metadata": {
        "colab": {
          "base_uri": "https://localhost:8080/"
        },
        "id": "M5FflZYN8Gtq",
        "outputId": "85ef3377-c955-49bc-dd35-99373e80d952"
      },
      "execution_count": null,
      "outputs": [
        {
          "output_type": "stream",
          "name": "stdout",
          "text": [
            "54.25\n"
          ]
        }
      ]
    },
    {
      "cell_type": "code",
      "source": [
        "#E:- Build a program to calculate the co-efficient of variation of a dataset.\n",
        "\n",
        "def Co_efficient_of_variation(numbers):\n",
        "  CV = Standerd_deviation(numbers)/mean1(numbers)\n",
        "  return CV\n",
        "\n",
        "print(Co_efficient_of_variation(int_list2))"
      ],
      "metadata": {
        "colab": {
          "base_uri": "https://localhost:8080/"
        },
        "id": "TpcT0giL94C4",
        "outputId": "0a9f1ad1-3738-4a20-8ad8-dcbdfabf9a7e"
      },
      "execution_count": null,
      "outputs": [
        {
          "output_type": "stream",
          "name": "stdout",
          "text": [
            "0.1184843665597733\n"
          ]
        }
      ]
    },
    {
      "cell_type": "code",
      "source": [
        "#F:- Write a Python function to find the mean absolute deviation(MAD) of a list of numbers.\n",
        "def Mean_Absolute_Deviation(numbers):\n",
        "  MAD = sum(abs(x - mean1(numbers)) for x in numbers)/len(numbers)\n",
        "  return MAD\n",
        "\n",
        "print(Mean_Absolute_Deviation(int_list2))"
      ],
      "metadata": {
        "colab": {
          "base_uri": "https://localhost:8080/"
        },
        "id": "-qp-Of8U_EN0",
        "outputId": "893ce94e-929f-44fb-ddc7-2fccd3b518b3"
      },
      "execution_count": null,
      "outputs": [
        {
          "output_type": "stream",
          "name": "stdout",
          "text": [
            "26.121472\n"
          ]
        }
      ]
    },
    {
      "cell_type": "code",
      "source": [
        "#G:- Create a program to calculate the quartile deviation of a list of values.\n",
        "def Quartile_deviation(numbers):\n",
        "  Q1 = np.percentile(numbers, 25)\n",
        "  Q3 = np.percentile(numbers, 75)\n",
        "  return (Q3-Q1)/2\n",
        "\n",
        "print(Quartile_deviation(int_list2))"
      ],
      "metadata": {
        "colab": {
          "base_uri": "https://localhost:8080/"
        },
        "id": "QQIw4v3i_9eu",
        "outputId": "78376f69-fe56-407c-b492-2d287e4554cb"
      },
      "execution_count": null,
      "outputs": [
        {
          "output_type": "stream",
          "name": "stdout",
          "text": [
            "27.125\n"
          ]
        }
      ]
    },
    {
      "cell_type": "code",
      "source": [
        "#H:- Implement a function to find the range-based co-efficient of dispersion for a dataset.\n",
        "def Range_based_co_efficient_of_dispersion(numbers):\n",
        "  return range1(numbers)/mean1(numbers)\n",
        "\n",
        "print(Range_based_co_efficient_of_dispersion(int_list2))"
      ],
      "metadata": {
        "colab": {
          "base_uri": "https://localhost:8080/"
        },
        "id": "zPBmmVpEA8ie",
        "outputId": "ed794457-c181-4f55-dad2-f5e1d43c2726"
      },
      "execution_count": null,
      "outputs": [
        {
          "output_type": "stream",
          "name": "stdout",
          "text": [
            "0.3947116611380454\n"
          ]
        }
      ]
    },
    {
      "cell_type": "markdown",
      "source": [
        "##3:- Write a Python class representing a discrete random variable with method to calculate it expected value and variance."
      ],
      "metadata": {
        "id": "vDjO1D0uBlgS"
      }
    },
    {
      "cell_type": "code",
      "source": [
        "class Discrete_random_variable:\n",
        "  def __init__(self, values, probab):\n",
        "    self.values = values\n",
        "    self.probab = probab\n",
        "\n",
        "  def expected_value(self):\n",
        "    return sum(val * probab for val, probab in zip(self.values, self.probab))\n",
        "\n",
        "  def variance(self):\n",
        "    expected_value = self.expected_value()\n",
        "    return sum((val ** 2) * probab for val, probab in zip(self.values, self.probab)) - expected_value ** 2\n",
        "\n",
        "values = [1, 2, 3]\n",
        "probabilities = [0.2, 0.5, 0.3]\n",
        "\n",
        "\n",
        "# Create an instance of DiscreteRandomVariable\n",
        "drv = Discrete_random_variable(values, probabilities)\n",
        "\n",
        "# Calculate expected value and variance\n",
        "print(\"Expected Value : \", round(drv.expected_value()))\n",
        "print(\"variance : \",round(drv.variance()))\n"
      ],
      "metadata": {
        "colab": {
          "base_uri": "https://localhost:8080/"
        },
        "id": "0p7bbYvyCkms",
        "outputId": "4487b729-bdca-4f5a-e3cd-4316a258849f"
      },
      "execution_count": null,
      "outputs": [
        {
          "output_type": "stream",
          "name": "stdout",
          "text": [
            "Expected Value :  2\n",
            "variance :  0\n"
          ]
        }
      ]
    },
    {
      "cell_type": "markdown",
      "source": [
        "##4:- Implement a program to simulate thr rolling of a fair six-sided die and calculate the expected value and variance of the outcomes."
      ],
      "metadata": {
        "id": "ICT8AglPIU4F"
      }
    },
    {
      "cell_type": "code",
      "source": [
        "class FairSixSidedDie:\n",
        "    def __init__(self):\n",
        "        self.outcomes = [1, 2, 3, 4, 5, 6]\n",
        "        self.probabilities = [1/6] * 6\n",
        "\n",
        "    def expected_value(self):\n",
        "        return sum(val * prob for val, prob in zip(self.outcomes, self.probabilities))\n",
        "\n",
        "    def variance(self):\n",
        "\n",
        "        expected_val = self.expected_value()\n",
        "\n",
        "        E_X_squared = sum((val ** 2) * prob for val, prob in zip(self.outcomes, self.probabilities))\n",
        "\n",
        "        return E_X_squared - expected_val ** 2\n",
        "\n",
        "\n",
        "die = FairSixSidedDie()\n",
        "\n",
        "expected_val = die.expected_value()\n",
        "variance = die.variance()\n",
        "\n",
        "print(f\"Expected Value (Mean): {expected_val}\")\n",
        "print(f\"Variance: {variance}\")\n",
        "\n"
      ],
      "metadata": {
        "colab": {
          "base_uri": "https://localhost:8080/"
        },
        "id": "q6W4yY1eEy5V",
        "outputId": "23d05f54-7088-4342-fd1d-e115752ce472"
      },
      "execution_count": null,
      "outputs": [
        {
          "output_type": "stream",
          "name": "stdout",
          "text": [
            "Expected Value (Mean): 3.5\n",
            "Variance: 2.916666666666666\n"
          ]
        }
      ]
    },
    {
      "cell_type": "markdown",
      "source": [
        "##5:- Create a Python function to generate random samples from a given probablity distribution and calculate their mean and variance.\n"
      ],
      "metadata": {
        "id": "KcnYubLMMqy7"
      }
    },
    {
      "cell_type": "code",
      "source": [
        "dist = np.random.binomial(n=500, p = 0.5, size = 1000)\n",
        "mean = round(mean1(dist))\n",
        "variance = np.var(dist)\n",
        "print(mean)\n",
        "print(variance)"
      ],
      "metadata": {
        "colab": {
          "base_uri": "https://localhost:8080/"
        },
        "id": "rdvqUbOxMqUO",
        "outputId": "02e6c77a-05e1-4fdf-a78e-98a5fa3cef13"
      },
      "execution_count": null,
      "outputs": [
        {
          "output_type": "stream",
          "name": "stdout",
          "text": [
            "250\n",
            "121.734959\n"
          ]
        }
      ]
    },
    {
      "cell_type": "markdown",
      "source": [
        "##6. Write a Python script to generate random numbers from a Gaussian(noraml) distribution and compute the mean, variance, and Standerd Deviation of the samples."
      ],
      "metadata": {
        "id": "C2pK7CyaOHV2"
      }
    },
    {
      "cell_type": "code",
      "source": [
        "mu = 0\n",
        "sigma = 0.1\n",
        "size = 1000\n",
        "\n",
        "Gaussian_dist = np.random.normal(mu, sigma, size)\n",
        "print(mean1(Gaussian_dist))\n",
        "print(np.var(Gaussian_dist))\n",
        "print(np.std(Gaussian_dist))"
      ],
      "metadata": {
        "colab": {
          "base_uri": "https://localhost:8080/"
        },
        "id": "UG8ddIkOOGuk",
        "outputId": "b5b4db8a-a9fe-4848-c796-c03580c0ec38"
      },
      "execution_count": null,
      "outputs": [
        {
          "output_type": "stream",
          "name": "stdout",
          "text": [
            "0.0017108921376283953\n",
            "0.009631888585998652\n",
            "0.09814218555747907\n"
          ]
        }
      ]
    },
    {
      "cell_type": "markdown",
      "source": [
        "##7:- Use seaborn library to load `tips` dataset. Find the following from the dataset for the columns `total_bill` adn `tip`.\n",
        "\n"
      ],
      "metadata": {
        "id": "C-tXC-izPvTW"
      }
    },
    {
      "cell_type": "code",
      "source": [
        "#A:- Write a Python function that calculates their skewness.\n",
        "df = sns.load_dataset(\"tips\")\n",
        "\n",
        "def Skewness(df):\n",
        "  skewness = 3 * (np.mean(df) - np.median(df))/np.std(df)\n",
        "  return skewness\n",
        "\n",
        "print(Skewness(df['total_bill']))\n",
        "print(Skewness(df['tip']))\n"
      ],
      "metadata": {
        "id": "uakTOnmzQdPP",
        "colab": {
          "base_uri": "https://localhost:8080/"
        },
        "outputId": "bec59a7d-4bf9-49cb-f9fa-c7ec49b4d7ef"
      },
      "execution_count": null,
      "outputs": [
        {
          "output_type": "stream",
          "name": "stdout",
          "text": [
            "0.6723015122905456\n",
            "0.2135255470975278\n"
          ]
        }
      ]
    },
    {
      "cell_type": "code",
      "source": [
        "pip install statistics\n"
      ],
      "metadata": {
        "colab": {
          "base_uri": "https://localhost:8080/"
        },
        "id": "qeFsVpklqDdz",
        "outputId": "fc5c757c-4a60-47ce-8b9e-cec69846301e"
      },
      "execution_count": null,
      "outputs": [
        {
          "output_type": "stream",
          "name": "stdout",
          "text": [
            "Requirement already satisfied: statistics in /usr/local/lib/python3.10/dist-packages (1.0.3.5)\n",
            "Requirement already satisfied: docutils>=0.3 in /usr/local/lib/python3.10/dist-packages (from statistics) (0.21.2)\n"
          ]
        }
      ]
    },
    {
      "cell_type": "code",
      "source": [
        "#B:- Create a program that determines whether the columns exhibit positive skewness, negative skewness, or is approximately symmetric.\n",
        "df = sns.load_dataset(\"tips\")\n",
        "\n",
        "def determine_skewness(column):\n",
        "    mean = np.mean(column)\n",
        "    median = np.median(column)\n",
        "\n",
        "    if mean > median:\n",
        "        return \"Positive Skewness\"\n",
        "    elif mean < median:\n",
        "        return \"Negative Skewness\"\n",
        "    else:\n",
        "        return \"Symmetric (No Skewness)\"\n",
        "\n",
        "print(\"Skewness of total_bill:\", determine_skewness(df['total_bill']))\n",
        "print(\"Skewness of tip:\", determine_skewness(df['tip']))\n"
      ],
      "metadata": {
        "id": "jRhZ7MzKUsfu",
        "colab": {
          "base_uri": "https://localhost:8080/"
        },
        "outputId": "3369e708-58c6-4241-d977-1fceaaedf861"
      },
      "execution_count": null,
      "outputs": [
        {
          "output_type": "stream",
          "name": "stdout",
          "text": [
            "Skewness of total_bill: Positive Skewness\n",
            "Skewness of tip: Positive Skewness\n"
          ]
        }
      ]
    },
    {
      "cell_type": "code",
      "source": [
        "#C:- Write a function that calculates the covariance between two columns.\n",
        "def Covariance(column1, column2):\n",
        "  mean_column1 = np.mean(column1)\n",
        "  mean_column2 = np.mean(column2)\n",
        "\n",
        "  covariance = sum(x * y for x, y in zip(column1 - mean_column1, column2 - mean_column2))/len(column1)\n",
        "  return covariance\n",
        "\n",
        "print(Covariance(df['total_bill'], df['tip']))\n"
      ],
      "metadata": {
        "colab": {
          "base_uri": "https://localhost:8080/"
        },
        "id": "EwMIkPvyrn3d",
        "outputId": "afafb21b-71df-4a70-e6ed-292a9630e5c4"
      },
      "execution_count": null,
      "outputs": [
        {
          "output_type": "stream",
          "name": "stdout",
          "text": [
            "8.28938891762967\n"
          ]
        }
      ]
    },
    {
      "cell_type": "code",
      "source": [
        "#D:- Implement a Python program that calculates the Pearson correlation co-efficeint between two columns.\n",
        "\n",
        "df = sns.load_dataset(\"tips\")\n",
        "\n",
        "def calculate_pearson_correlation_manual(col1, col2):\n",
        "    mean_x = np.mean(col1)\n",
        "    mean_y = np.mean(col2)\n",
        "\n",
        "    numerator = np.sum((col1 - mean_x) * (col2 - mean_y))\n",
        "    denominator = np.sqrt(np.sum((col1 - mean_x) ** 2) * np.sum((col2 - mean_y) ** 2))\n",
        "\n",
        "    return numerator / denominator\n",
        "\n",
        "correlation = calculate_pearson_correlation_manual(df['total_bill'], df['tip'])\n",
        "print(f\"Pearson Correlation Coefficient between total_bill and tip: {correlation}\")\n"
      ],
      "metadata": {
        "colab": {
          "base_uri": "https://localhost:8080/"
        },
        "id": "WWpJn_vHsd9y",
        "outputId": "23c5b106-cd69-45ee-809a-7d5e7508f2b0"
      },
      "execution_count": null,
      "outputs": [
        {
          "output_type": "stream",
          "name": "stdout",
          "text": [
            "Pearson Correlation Coefficient between total_bill and tip: 0.6757341092113643\n"
          ]
        }
      ]
    },
    {
      "cell_type": "code",
      "source": [
        "#E:- Write a script to visualize the correlation b/w two specific columns in a Pandas dataFrame using scatter plots.\n",
        "plt.figure(figsize=(8, 6))\n",
        "plt.scatter(df['total_bill'], df['tip'], alpha=0.5)\n",
        "plt.show()"
      ],
      "metadata": {
        "colab": {
          "base_uri": "https://localhost:8080/",
          "height": 542
        },
        "id": "3qSIDo-cttph",
        "outputId": "68dc54b4-770b-49bf-ed52-3f5368a5b513"
      },
      "execution_count": null,
      "outputs": [
        {
          "output_type": "display_data",
          "data": {
            "text/plain": [
              "<Figure size 800x600 with 1 Axes>"
            ],
            "image/png": "[encoded data removed]"
          },
          "metadata": {}
        }
      ]
    },
    {
      "cell_type": "markdown",
      "source": [
        "##8. Write a Python function to calculate the probablity density function (PDF) of a continuous random variable for a given normal distribution.\n"
      ],
      "metadata": {
        "id": "gLjkHPjVuNeP"
      }
    },
    {
      "cell_type": "code",
      "source": [
        "def normal_pdf(x, mean, std_dev):\n",
        "    pdf = (1 / (std_dev * np.sqrt(2 * np.pi))) * np.exp(-0.5 * ((x - mean) / std_dev) ** 2)\n",
        "    return pdf\n",
        "\n",
        "mean = 0\n",
        "std_dev = 1\n",
        "\n",
        "x = 1\n",
        "pdf_value = normal_pdf(x, mean, std_dev)\n",
        "print(f\"The PDF value at x = {x} is: {pdf_value}\")\n"
      ],
      "metadata": {
        "colab": {
          "base_uri": "https://localhost:8080/"
        },
        "id": "rjqhSVp2uLPi",
        "outputId": "8b965b81-6269-4368-c8b0-299ad3029f5d"
      },
      "execution_count": null,
      "outputs": [
        {
          "output_type": "stream",
          "name": "stdout",
          "text": [
            "The PDF value at x = 1 is: 0.24197072451914337\n"
          ]
        }
      ]
    },
    {
      "cell_type": "markdown",
      "source": [
        "##9. Create a program to calculate the cumulative distribution function (CDF) of exponential distribution."
      ],
      "metadata": {
        "id": "RVWTXVVxvrv4"
      }
    },
    {
      "cell_type": "code",
      "source": [
        "import numpy as np\n",
        "\n",
        "def exponential_cdf(x, rate_param):\n",
        "    cdf = 1 - np.exp(-rate_param * x)\n",
        "    return cdf\n",
        "\n",
        "rate_param = 1\n",
        "x_values = [0, 1, 2, 3, 4, 5]\n",
        "\n",
        "for x in x_values:\n",
        "    cdf_value = exponential_cdf(x, rate_param)\n",
        "    print(f\"The CDF value at x = {x} is: {cdf_value}\")\n"
      ],
      "metadata": {
        "colab": {
          "base_uri": "https://localhost:8080/"
        },
        "id": "X9CNRA_pv6p5",
        "outputId": "b9096f0d-9d4f-4354-9798-1d3bddc6110a"
      },
      "execution_count": null,
      "outputs": [
        {
          "output_type": "stream",
          "name": "stdout",
          "text": [
            "The CDF value at x = 0 is: 0.0\n",
            "The CDF value at x = 1 is: 0.6321205588285577\n",
            "The CDF value at x = 2 is: 0.8646647167633873\n",
            "The CDF value at x = 3 is: 0.950212931632136\n",
            "The CDF value at x = 4 is: 0.9816843611112658\n",
            "The CDF value at x = 5 is: 0.9932620530009145\n"
          ]
        }
      ]
    },
    {
      "cell_type": "markdown",
      "source": [
        "##10:- Write a Python function to calculate the probablity mass function of Poisson distribution.  "
      ],
      "metadata": {
        "id": "_eZm6hofxi_6"
      }
    },
    {
      "cell_type": "code",
      "source": [
        "import math\n",
        "\n",
        "def poisson_pmf(k, lambda_):\n",
        "\n",
        "    pmf = (lambda_ ** k) * math.exp(-lambda_) / math.factorial(k)\n",
        "    return pmf\n",
        "\n",
        "k = 3\n",
        "lambda_ = 2.5\n",
        "result = poisson_pmf(k, lambda_)\n",
        "print(f\"P(X = {k}) for lambda = {lambda_} is: {result}\")\n"
      ],
      "metadata": {
        "colab": {
          "base_uri": "https://localhost:8080/"
        },
        "id": "HB5sQ1MVydx7",
        "outputId": "5c086927-bd6a-46d7-e004-476f96c0ebe6"
      },
      "execution_count": null,
      "outputs": [
        {
          "output_type": "stream",
          "name": "stdout",
          "text": [
            "P(X = 3) for lambda = 2.5 is: 0.21376301724973645\n"
          ]
        }
      ]
    },
    {
      "cell_type": "markdown",
      "source": [
        "##11:- A company wants to test if a new website layout leads to a higher conversion rate (percentage of visitors who make a purchase). They collect data from the old and new layouts to compare."
      ],
      "metadata": {
        "id": "lIS_UwWdymcv"
      }
    },
    {
      "cell_type": "code",
      "source": [
        "import numpy as np\n",
        "import scipy.stats as stats\n",
        "\n",
        "old_layout = np.array([1] * 50 + [0] * 950)\n",
        "\n",
        "new_layout = np.array([1] * 70 + [0] * 930)\n",
        "\n",
        "H0 = 'old_layout is successful'\n",
        "H1 = 'new_layout is successful'\n",
        "\n",
        "#One tailed test\n",
        "\n",
        "P_old = np.mean(old_layout)\n",
        "P_new = np.mean(new_layout)\n",
        "\n",
        "n_old = len(old_layout)\n",
        "n_new = len(new_layout)\n",
        "\n",
        "p_pooled = (sum(old_layout) + sum(new_layout)) / (n_old + n_new)\n",
        "\n",
        "SE = np.sqrt(p_pooled * (1-p_pooled) * (1/n_old + 1/n_new))\n",
        "\n",
        "z = (P_old - P_new )/ SE\n",
        "\n",
        "p_value = 2 * (1-stats.norm.cdf(abs(z)))\n",
        "\n",
        "print(f\"Proportion of successes (old layout): {P_old}\")\n",
        "print(f\"Proportion of successes (new layout): {P_new}\")\n",
        "print(f\"Z-statistic: {z}\")\n",
        "print(f\"P-value: {p_value}\")\n",
        "\n",
        "\n",
        "alpha = 0.05\n",
        "if p_value < alpha:\n",
        "    print(\"Reject the null hypothesis: There is a significant difference between the layouts.\")\n",
        "else:\n",
        "    print(\"Fail to reject the null hypothesis: No significant difference between the layouts.\")"
      ],
      "metadata": {
        "id": "rNHk7-lnfbPg",
        "colab": {
          "base_uri": "https://localhost:8080/"
        },
        "outputId": "638d06b3-1344-4dcc-a212-b094bb3ae59c"
      },
      "execution_count": 16,
      "outputs": [
        {
          "output_type": "stream",
          "name": "stdout",
          "text": [
            "Proportion of successes (old layout): 0.05\n",
            "Proportion of successes (new layout): 0.07\n",
            "Z-statistic: -1.883108942886774\n",
            "P-value: 0.05968560553242619\n",
            "Fail to reject the null hypothesis: No significant difference between the layouts.\n"
          ]
        }
      ]
    },
    {
      "cell_type": "markdown",
      "source": [
        "##12 :- A tutoring service claims that its program improves student's exam scores. A sample of students who participated in the program was taken, and their scores before and after the program were recorded.\n",
        "\n"
      ],
      "metadata": {
        "id": "sA9GaJTm3YDu"
      }
    },
    {
      "cell_type": "code",
      "source": [
        "import numpy as np\n",
        "import scipy.stats as stats\n",
        "\n",
        "before_program = np.array([75, 80, 85, 70, 90, 78, 92, 88, 82, 87])\n",
        "after_program = np.array([80, 85, 90, 80, 92, 80, 95, 90, 85, 88])\n",
        "\n",
        "# Null Hypothesis (H0): The claims made by the tutor are true (no significant difference)\n",
        "# Alternative Hypothesis (H1): The claims made by the tutor are false (there is a significant difference)\n",
        "\n",
        "differences = after_program - before_program\n",
        "\n",
        "mean_diff = np.mean(differences)\n",
        "std_diff = np.std(differences, ddof=1)  # Sample standard deviation (ddof=1 for unbiased estimator)\n",
        "\n",
        "n = len(before_program)\n",
        "\n",
        "z_stat = mean_diff / (std_diff / np.sqrt(n))\n",
        "\n",
        "\n",
        "p_value = 2 * stats.norm.cdf(z_stat)\n",
        "\n",
        "print(f\"Mean difference: {mean_diff}\")\n",
        "print(f\"Standard deviation of differences: {std_diff}\")\n",
        "print(f\"T-statistic: {z_stat}\")\n",
        "print(f\"P-value: {p_value}\")\n",
        "\n",
        "alpha = 0.05\n",
        "if p_value < alpha:\n",
        "    print(\"Reject the null hypothesis: The claims made by the tutor are false (significant difference).\")\n",
        "else:\n",
        "    print(\"Fail to reject the null hypothesis: The claims made by the tutor are true (no significant difference).\")\n"
      ],
      "metadata": {
        "colab": {
          "base_uri": "https://localhost:8080/"
        },
        "id": "dbJyepGst28I",
        "outputId": "5da9b276-7e0b-4026-af02-299c042f5339"
      },
      "execution_count": 36,
      "outputs": [
        {
          "output_type": "stream",
          "name": "stdout",
          "text": [
            "Mean difference: 3.8\n",
            "Standard deviation of differences: 2.616188916046478\n",
            "T-statistic: 4.593190894944668\n",
            "P-value: 1.9999956348058947\n",
            "Fail to reject the null hypothesis: The claims made by the tutor are true (no significant difference).\n"
          ]
        }
      ]
    },
    {
      "cell_type": "markdown",
      "source": [
        "##13:- A Pharmaceutical company wants to determine if a new drug is effective in reducing blood pressure. They conduct a study and record blood pressure measurments before and after adminitering the drug.\n",
        "\n",
        "\n",
        "\n",
        "\n",
        "\n"
      ],
      "metadata": {
        "id": "f7TZKDAv82g5"
      }
    },
    {
      "cell_type": "code",
      "source": [
        "before_drug = np.array([145, 150, 140, 135, 155, 160, 152, 148, 130, 138])\n",
        "after_drug = np.array([130, 140, 132, 128, 145, 148, 138, 136, 125, 130])\n",
        "\n",
        "# null_Hypothesis (h0) = The drug is effective in reducing blood pressure\n",
        "# Alternate_Hypothesis (hA) = The drug is not effective in reducing blood pressure\n",
        "\n",
        "differ = after_drug - before_drug\n",
        "\n",
        "mean_difference = np.mean(differ)\n",
        "std_difference = np.std(differ, ddof = 1)\n",
        "\n",
        "n = len(after_drug)\n",
        "\n",
        "z = mean_difference / (std_difference / np.sqrt(n))\n",
        "\n",
        "p_value = stats.norm.cdf(z)\n",
        "\n",
        "print(f\"Mean difference: {mean_difference}\")\n",
        "print(f\"Standard deviation of differences: {std_difference}\")\n",
        "print(f\"T-statistic: {z}\")\n",
        "print(f\"P-value: {p_value}\")\n",
        "\n",
        "alpha = 0.05\n",
        "if p_value < alpha:\n",
        "    print(\"Reject the null hypothesis: The drug is effective in reducing blood pressure.\")\n",
        "else:\n",
        "    print(\"Fail to reject the null hypothesis: The drug is not effective in reducing blood pressure.\")"
      ],
      "metadata": {
        "colab": {
          "base_uri": "https://localhost:8080/"
        },
        "id": "SI8YDaSk9TvM",
        "outputId": "fe019858-2640-43a4-fc53-493e1d3601b6"
      },
      "execution_count": 35,
      "outputs": [
        {
          "output_type": "stream",
          "name": "stdout",
          "text": [
            "Mean difference: -10.1\n",
            "Standard deviation of differences: 3.178049716414141\n",
            "T-statistic: -10.049875621120888\n",
            "P-value: 4.599172203850193e-24\n",
            "Reject the null hypothesis: The drug is effective in reducing blood pressure.\n"
          ]
        }
      ]
    },
    {
      "cell_type": "markdown",
      "source": [
        "##14:- A customer service department claims that their average response time is less than 5 minutes. A sample of recent customer interactions was taken, and the response times were recorded.\n"
      ],
      "metadata": {
        "id": "udJGb-6kBuqg"
      }
    },
    {
      "cell_type": "code",
      "source": [
        "response_times = np.array([4.3, 3.8, 5.1, 4.9, 4.7, 4.2, 5.2, 4.5, 4.6, 4.4])\n",
        "\n",
        "avg_time = 5\n",
        "avg_response_time = np.mean(response_times)\n",
        "mean = np.mean(response_times)\n",
        "std_dev = np.std(response_times, ddof=1)\n",
        "n = len(response_times)\n",
        "\n",
        "z = (mean - avg_time) / (std_dev / np.sqrt(n))\n",
        "\n",
        "p_value = stats.norm.cdf(z)\n",
        "\n",
        "print(f\"Average response time: {mean}\")\n",
        "print(f\"Z-statistic: {z}\")\n",
        "print(f\"P-value: {p_value}\")\n",
        "\n",
        "if p_value < 0.05:\n",
        "    print(\"Reject the null hypothesis: The average response time is less than 5 minutes.\")\n",
        "else:\n",
        "    print(\"Fail to reject the null hypothesis: There is no significant evidence that the average response time is less than 5 minutes.\")"
      ],
      "metadata": {
        "colab": {
          "base_uri": "https://localhost:8080/"
        },
        "id": "0ZNhjb9jB0-I",
        "outputId": "b8e23a35-e760-49f4-e9ef-5d881bb5aaaf"
      },
      "execution_count": 38,
      "outputs": [
        {
          "output_type": "stream",
          "name": "stdout",
          "text": [
            "Average response time: 4.57\n",
            "Z-statistic: -3.184457226042963\n",
            "P-value: 0.0007251287113068958\n",
            "Reject the null hypothesis: The average response time is less than 5 minutes.\n"
          ]
        }
      ]
    },
    {
      "cell_type": "markdown",
      "source": [
        "##15:- A company is testing two different website layouts to see which one leads to higher click-through rates. Write a Python function to perform an A/B test analysis, including calculating the t-statistic, degree of freedom and p-value"
      ],
      "metadata": {
        "id": "2IbBV5O6EzSW"
      }
    },
    {
      "cell_type": "code",
      "source": [
        "import numpy as np\n",
        "from scipy import stats\n",
        "\n",
        "def ab_test_analysis(layout_a_clicks, layout_b_clicks):\n",
        "    mean_a = np.mean(layout_a_clicks)\n",
        "    std_a = np.std(layout_a_clicks, ddof=1)\n",
        "    n_a = len(layout_a_clicks)\n",
        "\n",
        "    mean_b = np.mean(layout_b_clicks)\n",
        "    std_b = np.std(layout_b_clicks, ddof=1)\n",
        "    n_b = len(layout_b_clicks)\n",
        "\n",
        "    t_statistic = (mean_a - mean_b) / np.sqrt((std_a**2 / n_a) + (std_b**2 / n_b))\n",
        "\n",
        "    df = ((std_a**2 / n_a + std_b**2 / n_b)**2) / (((std_a**2 / n_a)**2) / (n_a - 1) + ((std_b**2 / n_b)**2) / (n_b - 1))\n",
        "\n",
        "    p_value = stats.t.cdf(t_statistic, df)\n",
        "\n",
        "    print(f\"Layout A Mean: {mean_a}\")\n",
        "    print(f\"Layout B Mean: {mean_b}\")\n",
        "    print(f\"Layout A Standard Deviation: {std_a}\")\n",
        "    print(f\"Layout B Standard Deviation: {std_b}\")\n",
        "    print(f\"T-statistic: {t_statistic}\")\n",
        "    print(f\"Degrees of Freedom: {df}\")\n",
        "    print(f\"P-value: {p_value * 2}\")\n",
        "    alpha = 0.05\n",
        "    if p_value * 2 < alpha:\n",
        "        print(\"Reject the null hypothesis: There is a significant difference between the two layouts.\")\n",
        "    else:\n",
        "        print(\"Fail to reject the null hypothesis: There is no significant difference between the two layouts.\")\n",
        "\n",
        "layout_a_clicks = [28, 32, 33, 29, 31, 34, 30, 35, 36, 37]\n",
        "layout_b_clicks = [40, 41, 38, 42, 39, 44, 43, 41, 45, 47]\n",
        "\n",
        "ab_test_analysis(layout_a_clicks, layout_b_clicks)\n"
      ],
      "metadata": {
        "colab": {
          "base_uri": "https://localhost:8080/"
        },
        "id": "YeOxEwxuFS5h",
        "outputId": "b2dd7928-e265-4978-cd20-ff3e1ce441a5"
      },
      "execution_count": 40,
      "outputs": [
        {
          "output_type": "stream",
          "name": "stdout",
          "text": [
            "Layout A Mean: 32.5\n",
            "Layout B Mean: 42.0\n",
            "Layout A Standard Deviation: 3.0276503540974917\n",
            "Layout B Standard Deviation: 2.788866755113585\n",
            "T-statistic: -7.298102156175071\n",
            "Degrees of Freedom: 17.879871863320876\n",
            "P-value: 9.196596070789357e-07\n",
            "Reject the null hypothesis: There is a significant difference between the two layouts.\n"
          ]
        }
      ]
    },
    {
      "cell_type": "markdown",
      "source": [
        "##16:- A pharmaceutical company wants to determine if a new drug is more effective than an existing drug in reducing cholesterol levels. Create a program to analyze the clinical trial data and calculate the tstatistic and p-value for the treatment effect."
      ],
      "metadata": {
        "id": "wsETTPDqGwmJ"
      }
    },
    {
      "cell_type": "code",
      "source": [
        "import numpy as np\n",
        "from scipy import stats\n",
        "\n",
        "def treatment_effect_analysis(new_drug, existing_drug):\n",
        "    mean_new = np.mean(new_drug)\n",
        "    std_new = np.std(new_drug, ddof=1)\n",
        "    n_new = len(new_drug)\n",
        "\n",
        "    mean_existing = np.mean(existing_drug)\n",
        "    std_existing = np.std(existing_drug, ddof=1)\n",
        "    n_existing = len(existing_drug)\n",
        "\n",
        "    t_statistic = (mean_new - mean_existing) / np.sqrt((std_new**2 / n_new) + (std_existing**2 / n_existing))\n",
        "\n",
        "    df = ((std_new**2 / n_new + std_existing**2 / n_existing)**2) / (((std_new**2 / n_new)**2) / (n_new - 1) + ((std_existing**2 / n_existing)**2) / (n_existing - 1))\n",
        "\n",
        "    p_value = stats.t.cdf(t_statistic, df)  # One-tailed test\n",
        "\n",
        "    print(f\"New Drug Mean: {mean_new}\")\n",
        "    print(f\"Existing Drug Mean: {mean_existing}\")\n",
        "    print(f\"New Drug Standard Deviation: {std_new}\")\n",
        "    print(f\"Existing Drug Standard Deviation: {std_existing}\")\n",
        "    print(f\"T-statistic: {t_statistic}\")\n",
        "    print(f\"Degrees of Freedom: {df}\")\n",
        "    print(f\"P-value: {p_value}\")\n",
        "\n",
        "    alpha = 0.05\n",
        "    if p_value < alpha:\n",
        "        print(\"Reject the null hypothesis: The new drug is more effective in reducing cholesterol.\")\n",
        "    else:\n",
        "        print(\"Fail to reject the null hypothesis: The new drug is not more effective in reducing cholesterol.\")\n",
        "\n",
        "existing_drug_levels = [180, 182, 175, 185, 178, 176, 172, 184, 179, 183]\n",
        "\n",
        "new_drug_levels = [170, 172, 165, 168, 175, 173, 170, 178, 172, 176]\n",
        "treatment_effect_analysis(new_drug_levels, existing_drug_levels)\n",
        "\n",
        "\n"
      ],
      "metadata": {
        "colab": {
          "base_uri": "https://localhost:8080/"
        },
        "id": "-z2faoFxG6cE",
        "outputId": "4b763409-7999-4b63-bbcc-e344219b413f"
      },
      "execution_count": 43,
      "outputs": [
        {
          "output_type": "stream",
          "name": "stdout",
          "text": [
            "New Drug Mean: 171.9\n",
            "Existing Drug Mean: 179.4\n",
            "New Drug Standard Deviation: 3.8715486421958962\n",
            "Existing Drug Standard Deviation: 4.221637386396683\n",
            "T-statistic: -4.140480986208661\n",
            "Degrees of Freedom: 17.866770765582338\n",
            "P-value: 0.00031146144727346535\n",
            "Reject the null hypothesis: The new drug is more effective in reducing cholesterol.\n"
          ]
        }
      ]
    },
    {
      "cell_type": "markdown",
      "source": [
        "##17. A school district introduces an educational intervention program to improve math scores. Write a Python function to analyze pre- and post-intervention test scores, calculating the t-statistic and p-value to determine if the intervention had a significant impact"
      ],
      "metadata": {
        "id": "zJcOGtSpJFc-"
      }
    },
    {
      "cell_type": "code",
      "source": [
        "import numpy as np\n",
        "from scipy import stats\n",
        "\n",
        "def intervention_impact_analysis(pre_scores, post_scores):\n",
        "    differences = np.array(post_scores) - np.array(pre_scores)\n",
        "\n",
        "    mean_diff = np.mean(differences)\n",
        "    std_diff = np.std(differences, ddof=1)\n",
        "    n = len(differences)\n",
        "\n",
        "    t_statistic = mean_diff / (std_diff / np.sqrt(n))\n",
        "\n",
        "    df = n - 1\n",
        "\n",
        "    p_value = stats.t.cdf(t_statistic, df)\n",
        "\n",
        "    print(f\"Mean Difference: {mean_diff}\")\n",
        "    print(f\"Standard Deviation of Differences: {std_diff}\")\n",
        "    print(f\"T-statistic: {t_statistic}\")\n",
        "    print(f\"Degrees of Freedom: {df}\")\n",
        "    print(f\"P-value: {p_value}\")\n",
        "\n",
        "    alpha = 0.05\n",
        "    if p_value < alpha:\n",
        "        print(\"Reject the null hypothesis: The intervention had a significant impact on the scores.\")\n",
        "    else:\n",
        "        print(\"Fail to reject the null hypothesis: The intervention did not have a significant impact on the scores.\")\n",
        "\n",
        "pre_intervention_scores = [80, 85, 90, 75, 88, 82, 92, 78, 85, 87]\n",
        "post_intervention_scores = [90, 92, 88, 92, 95, 91, 96, 93, 89, 93]\n",
        "\n",
        "intervention_impact_analysis(pre_intervention_scores, post_intervention_scores)\n"
      ],
      "metadata": {
        "colab": {
          "base_uri": "https://localhost:8080/"
        },
        "id": "IJXkcuj8JPcB",
        "outputId": "a6d46db3-8059-4835-8b8a-af11d2f337cc"
      },
      "execution_count": 44,
      "outputs": [
        {
          "output_type": "stream",
          "name": "stdout",
          "text": [
            "Mean Difference: 7.7\n",
            "Standard Deviation of Differences: 5.49848463972878\n",
            "T-statistic: 4.428408839657611\n",
            "Degrees of Freedom: 9\n",
            "P-value: 0.9991745225917102\n",
            "Fail to reject the null hypothesis: The intervention did not have a significant impact on the scores.\n"
          ]
        }
      ]
    },
    {
      "cell_type": "markdown",
      "source": [
        "##18:- An HR department wants to investigate if there's a gender-based salary gap within the company. Develop a program to analyze salary data, calculate the t-statistic, and determine if there's a statistically significant difference between the average salaries of male and female employees."
      ],
      "metadata": {
        "id": "6pd9eZXbJ1xK"
      }
    },
    {
      "cell_type": "code",
      "source": [
        "import numpy as np\n",
        "from scipy import stats\n",
        "\n",
        "def gender_salary_gap_analysis(male_salaries, female_salaries):\n",
        "    mean_male = np.mean(male_salaries)\n",
        "    std_male = np.std(male_salaries, ddof=1)\n",
        "    n_male = len(male_salaries)\n",
        "\n",
        "    mean_female = np.mean(female_salaries)\n",
        "    std_female = np.std(female_salaries, ddof=1)\n",
        "    n_female = len(female_salaries)\n",
        "\n",
        "    t_statistic = (mean_male - mean_female) / np.sqrt((std_male**2 / n_male) + (std_female**2 / n_female))\n",
        "\n",
        "    df = ((std_male**2 / n_male + std_female**2 / n_female)**2) / (((std_male**2 / n_male)**2) / (n_male - 1) + ((std_female**2 / n_female)**2) / (n_female - 1))\n",
        "\n",
        "    p_value = stats.t.cdf(t_statistic, df)\n",
        "\n",
        "    print(f\"Male Mean Salary: {mean_male}\")\n",
        "    print(f\"Female Mean Salary: {mean_female}\")\n",
        "    print(f\"Male Standard Deviation: {std_male}\")\n",
        "    print(f\"Female Standard Deviation: {std_female}\")\n",
        "    print(f\"T-statistic: {t_statistic}\")\n",
        "    print(f\"Degrees of Freedom: {df}\")\n",
        "    print(f\"P-value: {p_value * 2}\")\n",
        "\n",
        "    alpha = 0.05\n",
        "    if p_value * 2 < alpha:\n",
        "        print(\"Reject the null hypothesis: There is a significant gender salary gap.\")\n",
        "    else:\n",
        "        print(\"Fail to reject the null hypothesis: There is no significant gender salary gap.\")\n",
        "\n",
        "np.random.seed(0)\n",
        "male_salaries = np.random.normal(loc=50000, scale=10000, size=20)\n",
        "female_salaries = np.random.normal(loc=55000, scale=9000, size=20)\n",
        "\n",
        "gender_salary_gap_analysis(male_salaries, female_salaries)\n"
      ],
      "metadata": {
        "colab": {
          "base_uri": "https://localhost:8080/"
        },
        "id": "VxNKhPy5J0JO",
        "outputId": "c5a4cb55-a51a-4306-c170-6eb3be834c1c"
      },
      "execution_count": 46,
      "outputs": [
        {
          "output_type": "stream",
          "name": "stdout",
          "text": [
            "Male Mean Salary: 55693.345929456365\n",
            "Female Mean Salary: 55501.753181380416\n",
            "Male Standard Deviation: 8722.691485249854\n",
            "Female Standard Deviation: 10968.104612042216\n",
            "T-statistic: 0.061142089696313844\n",
            "Degrees of Freedom: 36.166783312917644\n",
            "P-value: 1.0484173150732075\n",
            "Fail to reject the null hypothesis: There is no significant gender salary gap.\n"
          ]
        }
      ]
    },
    {
      "cell_type": "markdown",
      "source": [
        "##19:-  A manufacturer produces two different versions of a product and wants to compare their quality scores. Create a Python function to analyze quality assessment data, calculate the t-statistic, and decide whether there's a significant difference in quality between the two versions"
      ],
      "metadata": {
        "id": "DDfL9gFZKPDY"
      }
    },
    {
      "cell_type": "code",
      "source": [
        "import numpy as np\n",
        "from scipy import stats\n",
        "\n",
        "def quality_comparison(version1_scores, version2_scores):\n",
        "    mean_v1 = np.mean(version1_scores)\n",
        "    std_v1 = np.std(version1_scores, ddof=1)\n",
        "    n_v1 = len(version1_scores)\n",
        "    #\n",
        "    mean_v2 = np.mean(version2_scores)\n",
        "    std_v2 = np.std(version2_scores, ddof=1)\n",
        "    n_v2 = len(version2_scores)\n",
        "\n",
        "    t_statistic = (mean_v1 - mean_v2) / np.sqrt((std_v1**2 / n_v1) + (std_v2**2 / n_v2))\n",
        "\n",
        "    df = ((std_v1**2 / n_v1 + std_v2**2 / n_v2)**2) / (((std_v1**2 / n_v1)**2) / (n_v1 - 1) + ((std_v2**2 / n_v2)**2) / (n_v2 - 1))\n",
        "\n",
        "    p_value = stats.t.cdf(t_statistic, df)\n",
        "\n",
        "    print(f\"Version 1 Mean Score: {mean_v1}\")\n",
        "    print(f\"Version 2 Mean Score: {mean_v2}\")\n",
        "    print(f\"Version 1 Standard Deviation: {std_v1}\")\n",
        "    print(f\"Version 2 Standard Deviation: {std_v2}\")\n",
        "    print(f\"T-statistic: {t_statistic}\")\n",
        "    print(f\"Degrees of Freedom: {df}\")\n",
        "    print(f\"P-value: {p_value * 2}\")\n",
        "\n",
        "    alpha = 0.05\n",
        "    if p_value * 2 < alpha:\n",
        "        print(\"Reject the null hypothesis: There is a significant difference in quality between the two versions.\")\n",
        "    else:\n",
        "        print(\"Fail to reject the null hypothesis: There is no significant difference in quality between the two versions.\")\n",
        "\n",
        "version1_scores = [85, 88, 82, 89, 87, 84, 90, 88, 85, 86, 91, 83, 87, 84, 89, 86, 84, 88, 85, 86, 89, 90, 87, 88, 85]\n",
        "\n",
        "version2_scores = [78, 82, 80, 79, 81, 77, 85, 80, 83, 78, 79, 84, 80, 81, 83, 82, 78, 79, 80, 82, 81, 79, 80, 81, 80]\n",
        "\n",
        "quality_comparison(version1_scores, version2_scores)\n"
      ],
      "metadata": {
        "colab": {
          "base_uri": "https://localhost:8080/"
        },
        "id": "h-h71uAgKWtv",
        "outputId": "c3e8282f-e450-4c9c-d980-1a525f7bbb10"
      },
      "execution_count": 47,
      "outputs": [
        {
          "output_type": "stream",
          "name": "stdout",
          "text": [
            "Version 1 Mean Score: 86.64\n",
            "Version 2 Mean Score: 80.48\n",
            "Version 1 Standard Deviation: 2.3607908279501033\n",
            "Version 2 Standard Deviation: 1.9815818596935801\n",
            "T-statistic: 9.992839541654964\n",
            "Degrees of Freedom: 46.59993096306525\n",
            "P-value: 1.9999999999996394\n",
            "Fail to reject the null hypothesis: There is no significant difference in quality between the two versions.\n"
          ]
        }
      ]
    },
    {
      "cell_type": "markdown",
      "source": [
        "##20:- A manufacturer produces two different versions of a product and wants to compare their quality scores. Create a Python function to analyze quality assessment data, calculate the t-statistic, and decide whether there's a significant difference in quality between the two versions."
      ],
      "metadata": {
        "id": "LDz0H19SLPuH"
      }
    },
    {
      "cell_type": "code",
      "source": [
        "import numpy as np\n",
        "from scipy import stats\n",
        "\n",
        "def customer_satisfaction_analysis(branch_a_scores, branch_b_scores):\n",
        "    mean_a = np.mean(branch_a_scores)\n",
        "    std_a = np.std(branch_a_scores, ddof=1)\n",
        "    n_a = len(branch_a_scores)\n",
        "\n",
        "    mean_b = np.mean(branch_b_scores)\n",
        "    std_b = np.std(branch_b_scores, ddof=1)\n",
        "    n_b = len(branch_b_scores)\n",
        "\n",
        "    t_statistic = (mean_a - mean_b) / np.sqrt((std_a**2 / n_a) + (std_b**2 / n_b))\n",
        "\n",
        "    df = ((std_a**2 / n_a + std_b**2 / n_b)**2) / (((std_a**2 / n_a)**2) / (n_a - 1) + ((std_b**2 / n_b)**2) / (n_b - 1))\n",
        "\n",
        "    p_value = stats.t.cdf(t_statistic, df)\n",
        "\n",
        "    print(f\"Branch A Mean Satisfaction Score: {mean_a}\")\n",
        "    print(f\"Branch B Mean Satisfaction Score: {mean_b}\")\n",
        "    print(f\"Branch A Standard Deviation: {std_a}\")\n",
        "    print(f\"Branch B Standard Deviation: {std_b}\")\n",
        "    print(f\"T-statistic: {t_statistic}\")\n",
        "    print(f\"Degrees of Freedom: {df}\")\n",
        "    print(f\"P-value: {p_value * 2}\")\n",
        "\n",
        "\n",
        "    alpha = 0.05\n",
        "    if p_value * 2 < alpha:\n",
        "        print(\"Reject the null hypothesis: There is a significant difference in customer satisfaction between the branches.\")\n",
        "    else:\n",
        "        print(\"Fail to reject the null hypothesis: There is no significant difference in customer satisfaction between the branches.\")\n",
        "\n",
        "branch_a_scores = [4, 5, 3, 4, 5, 4, 5, 3, 4, 4, 5, 4, 4, 3, 4, 5, 5, 4, 3, 4, 5, 4, 3, 5, 4, 4, 5, 3, 4, 5, 4]\n",
        "\n",
        "branch_b_scores = [3, 4, 2, 3, 4, 3, 4, 2, 3, 3, 4, 3, 3, 2, 3, 4, 4, 3, 2, 3, 4, 3, 2, 4, 3, 3, 4, 2, 3, 4, 3]\n",
        "\n",
        "customer_satisfaction_analysis(branch_a_scores, branch_b_scores)\n"
      ],
      "metadata": {
        "colab": {
          "base_uri": "https://localhost:8080/"
        },
        "id": "UK9ewjc8LU5s",
        "outputId": "e1f256be-01da-4b2b-84b8-dfb91acdaf4f"
      },
      "execution_count": 48,
      "outputs": [
        {
          "output_type": "stream",
          "name": "stdout",
          "text": [
            "Branch A Mean Satisfaction Score: 4.129032258064516\n",
            "Branch B Mean Satisfaction Score: 3.129032258064516\n",
            "Branch A Standard Deviation: 0.7184212081070998\n",
            "Branch B Standard Deviation: 0.7184212081070998\n",
            "T-statistic: 5.480077554195743\n",
            "Degrees of Freedom: 60.0\n",
            "P-value: 1.9999991104709491\n",
            "Fail to reject the null hypothesis: There is no significant difference in customer satisfaction between the branches.\n"
          ]
        }
      ]
    },
    {
      "cell_type": "markdown",
      "source": [
        "##21:- A political analyst wants to determine if there is a significant association between age groups and voter preferences (Candidate A or Candidate B). They collect data from a sample of 500 voters and classify them into different age groups and candidate preferences. Perform a Chi-Square test to determine if there is a significant association between age groups and voter preferences."
      ],
      "metadata": {
        "id": "SsFhP-VtMCJ_"
      }
    },
    {
      "cell_type": "code",
      "source": [
        "import numpy as np\n",
        "import pandas as pd\n",
        "from scipy.stats import chi2_contingency\n",
        "\n",
        "np.random.seed(0)\n",
        "\n",
        "age_groups = np.random.choice(['18-30', '31-50', '51+'], size=30)\n",
        "voter_preferences = np.random.choice(['Candidate A', 'Candidate B'], size=30)\n",
        "\n",
        "contingency_table = pd.crosstab(age_groups, voter_preferences)\n",
        "\n",
        "chi2_stat, p_value, dof, expected = chi2_contingency(contingency_table)\n",
        "\n",
        "print(\"Contingency Table:\")\n",
        "print(contingency_table)\n",
        "print(\"\\nChi-Square Statistic:\", chi2_stat)\n",
        "print(\"Degrees of Freedom:\", dof)\n",
        "print(\"Expected Frequencies:\")\n",
        "print(expected)\n",
        "print(\"P-value:\", p_value)\n",
        "\n",
        "\n",
        "alpha = 0.05\n",
        "if p_value < alpha:\n",
        "    print(\"Reject the null hypothesis: There is a significant association between age groups and voter preferences.\")\n",
        "else:\n",
        "    print(\"Fail to reject the null hypothesis: There is no significant association between age groups and voter preferences.\")\n"
      ],
      "metadata": {
        "colab": {
          "base_uri": "https://localhost:8080/"
        },
        "id": "IRQTv7W0MAvm",
        "outputId": "35d20ecc-ec40-4ace-9e78-ab99f3043963"
      },
      "execution_count": 49,
      "outputs": [
        {
          "output_type": "stream",
          "name": "stdout",
          "text": [
            "Contingency Table:\n",
            "col_0  Candidate A  Candidate B\n",
            "row_0                          \n",
            "18-30            4            8\n",
            "31-50            6            5\n",
            "51+              4            3\n",
            "\n",
            "Chi-Square Statistic: 1.4401669758812612\n",
            "Degrees of Freedom: 2\n",
            "Expected Frequencies:\n",
            "[[5.6        6.4       ]\n",
            " [5.13333333 5.86666667]\n",
            " [3.26666667 3.73333333]]\n",
            "P-value: 0.48671161971286614\n",
            "Fail to reject the null hypothesis: There is no significant association between age groups and voter preferences.\n"
          ]
        }
      ]
    },
    {
      "cell_type": "markdown",
      "source": [
        "##22:- A company conducted a customer satisfaction survey to determine if there is a significant relationship between product satisfaction levels (Satisfied, Neutral, Dissatisfied) and the region where customers are located (East, West, North, South). The survey data is summarized in a contingency table. Conduct a ChiSquare test to determine if there is a significant relationship between product satisfaction levels and customer regions."
      ],
      "metadata": {
        "id": "XU3brNh9My-R"
      }
    },
    {
      "cell_type": "code",
      "source": [
        "import numpy as np\n",
        "from scipy.stats import chi2_contingency\n",
        "\n",
        "\n",
        "data = np.array([[50, 30, 40, 20],\n",
        "                 [30, 40, 30, 50],\n",
        "                 [20, 30, 40, 30]])\n",
        "\n",
        "chi2_stat, p_value, dof, expected = chi2_contingency(data)\n",
        "\n",
        "print(\"Contingency Table (Observed Frequencies):\")\n",
        "print(data)\n",
        "print(\"\\nChi-Square Statistic:\", chi2_stat)\n",
        "print(\"Degrees of Freedom:\", dof)\n",
        "print(\"Expected Frequencies:\")\n",
        "print(expected)\n",
        "print(\"P-value:\", p_value)\n",
        "\n",
        "alpha = 0.05\n",
        "if p_value < alpha:\n",
        "    print(\"Reject the null hypothesis: There is a significant relationship between product satisfaction levels and customer regions.\")\n",
        "else:\n",
        "    print(\"Fail to reject the null hypothesis: There is no significant relationship between product satisfaction levels and customer regions.\")\n"
      ],
      "metadata": {
        "colab": {
          "base_uri": "https://localhost:8080/"
        },
        "id": "CfwYMUXdM4Sm",
        "outputId": "f0c53df6-788f-49fb-a94b-4fdf7378c9bd"
      },
      "execution_count": 50,
      "outputs": [
        {
          "output_type": "stream",
          "name": "stdout",
          "text": [
            "Contingency Table (Observed Frequencies):\n",
            "[[50 30 40 20]\n",
            " [30 40 30 50]\n",
            " [20 30 40 30]]\n",
            "\n",
            "Chi-Square Statistic: 27.777056277056275\n",
            "Degrees of Freedom: 6\n",
            "Expected Frequencies:\n",
            "[[34.14634146 34.14634146 37.56097561 34.14634146]\n",
            " [36.58536585 36.58536585 40.24390244 36.58536585]\n",
            " [29.26829268 29.26829268 32.19512195 29.26829268]]\n",
            "P-value: 0.00010349448486004387\n",
            "Reject the null hypothesis: There is a significant relationship between product satisfaction levels and customer regions.\n"
          ]
        }
      ]
    },
    {
      "cell_type": "markdown",
      "source": [
        "##23:- A company implemented an employee training program to improve job performance (Effective, Neutral, Ineffective). After the training, they collected data from a sample of employees and classified them based on their job performance before and after the training. Perform a Chi-Square test to determine if there is a significant difference between job performance levels before and after the training."
      ],
      "metadata": {
        "id": "cmQqfsb6NLGx"
      }
    },
    {
      "cell_type": "code",
      "source": [
        "import numpy as np\n",
        "from scipy.stats import chi2_contingency\n",
        "\n",
        "\n",
        "data = np.array([[50, 30, 20],\n",
        "                 [30, 40, 30],\n",
        "                 [20, 30, 40]])\n",
        "\n",
        "chi2_stat, p_value, dof, expected = chi2_contingency(data)\n",
        "\n",
        "print(\"Contingency Table (Observed Frequencies):\")\n",
        "print(data)\n",
        "print(\"\\nChi-Square Statistic:\", chi2_stat)\n",
        "print(\"Degrees of Freedom:\", dof)\n",
        "print(\"Expected Frequencies:\")\n",
        "print(expected)\n",
        "print(\"P-value:\", p_value)\n",
        "\n",
        "alpha = 0.05\n",
        "if p_value < alpha:\n",
        "    print(\"Reject the null hypothesis: There is a significant difference between job performance levels before and after the training.\")\n",
        "else:\n",
        "    print(\"Fail to reject the null hypothesis: There is no significant difference between job performance levels before and after the training.\")\n"
      ],
      "metadata": {
        "colab": {
          "base_uri": "https://localhost:8080/"
        },
        "id": "EOV6Ckc1NQoJ",
        "outputId": "5e6c59e9-4522-4ad8-e158-1dca72237a9e"
      },
      "execution_count": 51,
      "outputs": [
        {
          "output_type": "stream",
          "name": "stdout",
          "text": [
            "Contingency Table (Observed Frequencies):\n",
            "[[50 30 20]\n",
            " [30 40 30]\n",
            " [20 30 40]]\n",
            "\n",
            "Chi-Square Statistic: 22.161728395061726\n",
            "Degrees of Freedom: 4\n",
            "Expected Frequencies:\n",
            "[[34.48275862 34.48275862 31.03448276]\n",
            " [34.48275862 34.48275862 31.03448276]\n",
            " [31.03448276 31.03448276 27.93103448]]\n",
            "P-value: 0.00018609719479882557\n",
            "Reject the null hypothesis: There is a significant difference between job performance levels before and after the training.\n"
          ]
        }
      ]
    },
    {
      "cell_type": "markdown",
      "source": [
        "##24:- 24. A company produces three different versions of a product: Standard, Premium, and Deluxe. The company wants to determine if there is a significant difference in customer satisfaction scores among the three product versions. They conducted a survey and collected customer satisfaction scores for each version from a random sample of customers. Perform an ANOVA test to determine if there is a significant difference in customer satisfaction scores."
      ],
      "metadata": {
        "id": "PdyxlmXQNeWQ"
      }
    },
    {
      "cell_type": "code",
      "source": [
        "import numpy as np\n",
        "from scipy.stats import f_oneway\n",
        "\n",
        "standard_scores = [80, 85, 90, 78, 88, 82, 92, 78, 85, 87]\n",
        "premium_scores = [90, 92, 88, 92, 95, 91, 96, 93, 89, 93]\n",
        "deluxe_scores = [95, 98, 92, 97, 96, 94, 98, 97, 92, 99]\n",
        "\n",
        "f_stat, p_value = f_oneway(standard_scores, premium_scores, deluxe_scores)\n",
        "\n",
        "print(\"F-statistic:\", f_stat)\n",
        "print(\"P-value:\", p_value)\n",
        "\n",
        "alpha = 0.05\n",
        "if p_value < alpha:\n",
        "    print(\"Reject the null hypothesis: There is a significant difference in customer satisfaction scores among the product versions.\")\n",
        "else:\n",
        "    print(\"Fail to reject the null hypothesis: There is no significant difference in customer satisfaction scores among the product versions.\")\n"
      ],
      "metadata": {
        "colab": {
          "base_uri": "https://localhost:8080/"
        },
        "id": "WLYBPGRFNmne",
        "outputId": "f4113f7f-61ec-43c3-8d4c-9980246de0e9"
      },
      "execution_count": 52,
      "outputs": [
        {
          "output_type": "stream",
          "name": "stdout",
          "text": [
            "F-statistic: 27.03556231003039\n",
            "P-value: 3.5786328857349003e-07\n",
            "Reject the null hypothesis: There is a significant difference in customer satisfaction scores among the product versions.\n"
          ]
        }
      ]
    }
  ]
}